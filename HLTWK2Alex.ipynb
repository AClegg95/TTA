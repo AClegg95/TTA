{
 "cells": [
  {
   "cell_type": "code",
   "execution_count": 11,
   "metadata": {},
   "outputs": [],
   "source": [
    "# Task 1: Write a program that allows you to enter 4 numbers and stores them in a file called “Numbers”.\n",
    "\n",
    "numbers = open(\"numbers.txt\",\"w\")\n",
    "numbers.write(str(\"8,19,32,57\"))\n",
    "\n",
    "\n",
    "numbers.close()"
   ]
  },
  {
   "cell_type": "code",
   "execution_count": 60,
   "metadata": {},
   "outputs": [
    {
     "name": "stdout",
     "output_type": "stream",
     "text": [
      "C\n"
     ]
    }
   ],
   "source": [
    "# Task 2: Write a program to ask a student for their percentage mark and convert this to a grade.\n",
    "# The conversion will be done in a function called mark_grade\n",
    "\n",
    "def function1():\n",
    "\n",
    "    student_mark = int(input(\"Please enter your percentage mark to receive your grade\"))\n",
    "\n",
    "    if student_mark <= 100 and student_mark >= 80:\n",
    "        print(\"A\")\n",
    "    elif student_mark >= 70 and student_mark < 80:\n",
    "        print(\"B\")\n",
    "    elif student_mark >= 60 and student_mark < 70:\n",
    "        print(\"C\")\n",
    "    elif student_mark >= 40 and student_mark < 60:\n",
    "        print(\"D\")\n",
    "    elif student_mark < 40:\n",
    "        print(\"F\")\n",
    "    else:\n",
    "        print(\"Please try again.\")\n",
    "\n",
    "function1()"
   ]
  },
  {
   "cell_type": "code",
   "execution_count": 3,
   "metadata": {},
   "outputs": [
    {
     "name": "stdout",
     "output_type": "stream",
     "text": [
      "Unfortunately you underachieved with a B\n"
     ]
    }
   ],
   "source": [
    "# Extension of task 2\n",
    "\n",
    "def function2():\n",
    "\n",
    "    target_mark = str(input(\"What is your target grade?\"))\n",
    "    student_mark = int(input(\"Please enter your percentage mark to receive your grade\"))\n",
    "    \n",
    "\n",
    "    if (target_mark == \"A\") and (student_mark <= 100 and student_mark >= 80):\n",
    "        print(\"Congratulations, you achieved your target mark of A\")\n",
    "    elif (target_mark == \"B\" or \"C\" or \"D\") and (student_mark <= 100 and student_mark >= 80):\n",
    "        print(\"Amazing work, you've excelled and achieved an A\")\n",
    "    elif (target_mark == \"B\") and (student_mark >= 70 and student_mark < 80):\n",
    "        print(\"Congratulations, you achieved your target mark of B\")\n",
    "    elif (target_mark == \"A\") and (student_mark >= 70 and student_mark < 80):\n",
    "        print(\"Unfortunately you underachieved with a B\")\n",
    "    elif (target_mark == \"C\" or \"D\" or \"E\") and (student_mark >= 70 and student_mark < 80):\n",
    "        Print(\"Amazing work, you've excelled and achieved a B\")\n",
    "    elif (target_mark ==\"C\") and (student_mark >= 60 and student_mark < 70):\n",
    "        print(\"Congratulations, you achieved your target mark of C\")\n",
    "    elif (target_mark ==\"D\" or \"E\") and (student_mark >= 60 and student_mark < 70):\n",
    "        print(\"Amazing work, you've excelled and achieved a C\")\n",
    "    elif (target_mark ==\"A\" or \"B\") and (student_mark >= 60 and student_mark < 70):\n",
    "        print(\"Unfortunately you underachieved with a C\")\n",
    "    elif (target_mark ==\"D\") and (student_mark >= 40 and student_mark < 60):\n",
    "        print(\"Congratulations, you achieved your target mark of D\")\n",
    "    elif (target_mark ==\"E\") and (student_mark >= 40 and student_mark < 60):\n",
    "        print(\"Amazing work, you've excelled and achieved a D\")\n",
    "    elif (target_mark ==\"A\" or \"B\" or \"C\") and (student_mark >= 40 and student_mark < 60):\n",
    "        print(\"Unfortunately you underachieved with a D\")\n",
    "    elif (student_mark < 40):\n",
    "        print(\"Unfortunately you failed\")\n",
    "    else:\n",
    "        print(\"Please try again.\")\n",
    "\n",
    "function2()"
   ]
  },
  {
   "cell_type": "code",
   "execution_count": 10,
   "metadata": {},
   "outputs": [
    {
     "name": "stdout",
     "output_type": "stream",
     "text": [
      "[1 2 3 4 5 6 7 8 9]\n"
     ]
    }
   ],
   "source": [
    "import numpy as np\n",
    "\n",
    "# Task 1: Create a 1D array of numbers from 0 to 9\n",
    "\n",
    "array = np.array([1,2,3,4,5,6,7,8,9])\n",
    "\n",
    "print(array)"
   ]
  },
  {
   "cell_type": "code",
   "execution_count": 14,
   "metadata": {},
   "outputs": [
    {
     "name": "stdout",
     "output_type": "stream",
     "text": [
      "[[ True  True  True]\n",
      " [ True  True  True]\n",
      " [ True  True  True]]\n"
     ]
    }
   ],
   "source": [
    "# Task 2: Create a 3×3 NumPy array of all Boolean value Trues\n",
    "\n",
    "bool_array = np.ones(9, dtype=bool)\n",
    "\n",
    "new_bool_array = bool_array.reshape(3,3)\n",
    "\n",
    "print(new_bool_array)"
   ]
  },
  {
   "cell_type": "code",
   "execution_count": 39,
   "metadata": {},
   "outputs": [
    {
     "name": "stdout",
     "output_type": "stream",
     "text": [
      "[1 3 5 7 9]\n"
     ]
    }
   ],
   "source": [
    "# Task 3: Extract all odd numbers from array of 1-10\n",
    "\n",
    "\n",
    "extract_array = np.arange(1,11,2)\n",
    "\n",
    "print(extract_array)"
   ]
  },
  {
   "cell_type": "code",
   "execution_count": 37,
   "metadata": {},
   "outputs": [
    {
     "name": "stdout",
     "output_type": "stream",
     "text": [
      "[-1  2 -1  4 -1  6 -1  8 -1 10]\n"
     ]
    }
   ],
   "source": [
    "# Task 4: Replace all odd numbers in an array of 1-10 with the value -1\n",
    "\n",
    "array[array%2 ==1] = -1\n",
    "\n",
    "print(array)"
   ]
  },
  {
   "cell_type": "code",
   "execution_count": 51,
   "metadata": {},
   "outputs": [
    {
     "name": "stdout",
     "output_type": "stream",
     "text": [
      "[[ 1  2  3  4  5  6  7  8  9 10]\n",
      " [11 12 13 14 15 16 17 18 19 20]]\n"
     ]
    }
   ],
   "source": [
    "# Task 5: Convert a 1D array to a 2D array with 2 rows.\n",
    "\n",
    "task5array = np.array([1,2,3,4,5,6,7,8,9,10,11,12,13,14,15,16,17,18,19,20])\n",
    "\n",
    "reshaped_array = task5array.reshape(2,10)\n",
    "\n",
    "print(reshaped_array)"
   ]
  },
  {
   "cell_type": "code",
   "execution_count": 77,
   "metadata": {},
   "outputs": [
    {
     "name": "stdout",
     "output_type": "stream",
     "text": [
      "12080\n"
     ]
    }
   ],
   "source": [
    "# Task 6: Create two arrays a and b, stack these two arrays vertically use the  np.dot and np.sum to calculate totals.\n",
    "\n",
    "task6array1 = np.arange(0,16).reshape(4,4)\n",
    "task6array2 = np.arange(17,33).reshape(4,4)\n",
    "stack = np.dot(task6array1, task6array2)\n",
    "sum = np.sum(stack)\n",
    "\n",
    "print(sum)"
   ]
  },
  {
   "cell_type": "code",
   "execution_count": 78,
   "metadata": {},
   "outputs": [
    {
     "data": {
      "text/plain": [
       "array([1, 1, 1, 2, 2, 2, 3, 3, 3, 1, 2, 3, 1, 2, 3, 1, 2, 3])"
      ]
     },
     "execution_count": 78,
     "metadata": {},
     "output_type": "execute_result"
    }
   ],
   "source": [
    "# Extension 1: Create the following pattern without hardcoding. Use only NumPy functions.\n",
    "\n",
    "a = np.array([1, 2, 3])\n",
    "\n",
    "np.append(np.repeat(a,3), np.tile(a,3))"
   ]
  },
  {
   "cell_type": "code",
   "execution_count": 81,
   "metadata": {},
   "outputs": [
    {
     "name": "stdout",
     "output_type": "stream",
     "text": [
      "[1 2 3 4 5]\n"
     ]
    }
   ],
   "source": [
    "# Extension 2: In two arrays a ( 1,2,3,4,5) and b ( 4,5,6,7,8,9) –remove all repeating  items present in array b.\n",
    "\n",
    "a = np.array([1,2,3,4,5])\n",
    "b = np.array([4,5,6,7,8,9])\n",
    "\n",
    "# Sorry, I'm lost with this one!"
   ]
  },
  {
   "cell_type": "code",
   "execution_count": null,
   "metadata": {},
   "outputs": [],
   "source": [
    "# Extension 3: Get all items between 3 and 7 from a and b and sum them together.\n",
    "\n",
    "a = np.array([1,2,3,4,5])\n",
    "b = np.array([4,5,6,7,8,9])\n",
    "\n",
    "# Unsure on the question? Is it asking to sum the numbers between the 3rd and 7th positions or is it asking to sum the numbers between 3 and 7?"
   ]
  }
 ],
 "metadata": {
  "interpreter": {
   "hash": "403fa2ced73ece06b9c4dd8fd1f67de18907d88a859348c11e08093f36e24ea1"
  },
  "kernelspec": {
   "display_name": "Python 3.10.0 64-bit",
   "name": "python3"
  },
  "language_info": {
   "codemirror_mode": {
    "name": "ipython",
    "version": 3
   },
   "file_extension": ".py",
   "mimetype": "text/x-python",
   "name": "python",
   "nbconvert_exporter": "python",
   "pygments_lexer": "ipython3",
   "version": "3.10.0"
  },
  "orig_nbformat": 4
 },
 "nbformat": 4,
 "nbformat_minor": 2
}
