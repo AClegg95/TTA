{
 "cells": [
  {
   "cell_type": "code",
   "execution_count": 11,
   "metadata": {},
   "outputs": [],
   "source": [
    "# Task 1: Write a program that allows you to enter 4 numbers and stores them in a file called “Numbers”.\n",
    "\n",
    "numbers = open(\"numbers.txt\",\"w\")\n",
    "numbers.write(str(\"8,19,32,57\"))\n",
    "\n",
    "\n",
    "numbers.close()"
   ]
  },
  {
   "cell_type": "code",
   "execution_count": 60,
   "metadata": {},
   "outputs": [
    {
     "name": "stdout",
     "output_type": "stream",
     "text": [
      "C\n"
     ]
    }
   ],
   "source": [
    "# Task 2: Write a program to ask a student for their percentage mark and convert this to a grade.\n",
    "# The conversion will be done in a function called mark_grade\n",
    "\n",
    "def function1():\n",
    "\n",
    "    student_mark = int(input(\"Please enter your percentage mark to receive your grade\"))\n",
    "\n",
    "    if student_mark <= 100 and student_mark >= 80:\n",
    "        print(\"A\")\n",
    "    elif student_mark >= 70 and student_mark < 80:\n",
    "        print(\"B\")\n",
    "    elif student_mark >= 60 and student_mark < 70:\n",
    "        print(\"C\")\n",
    "    elif student_mark >= 40 and student_mark < 60:\n",
    "        print(\"D\")\n",
    "    elif student_mark < 40:\n",
    "        print(\"F\")\n",
    "    else:\n",
    "        print(\"Please try again.\")\n",
    "\n",
    "function1()"
   ]
  },
  {
   "cell_type": "code",
   "execution_count": 67,
   "metadata": {},
   "outputs": [
    {
     "name": "stdout",
     "output_type": "stream",
     "text": [
      "Amazing work, you've excelled and achieved an A\n"
     ]
    }
   ],
   "source": [
    "# Extension of task 2\n",
    "\n",
    "def function2():\n",
    "\n",
    "    target_mark = str(input(\"What is your target grade?\"))\n",
    "    student_mark = int(input(\"Please enter your percentage mark to receive your grade\"))\n",
    "    \n",
    "\n",
    "    if target_mark == \"A\" and student_mark <= 100 and student_mark >= 80:\n",
    "        print(\"Congratulations, you achieved your target mark of A\")\n",
    "    elif target_mark == \"B\" or \"C\" or \"D\" and student_mark <= 100 and student_mark >= 80:\n",
    "        print(\"Amazing work, you've excelled and achieved an A\")\n",
    "    elif target_mark == \"B\" and student_mark >= 70 and student_mark < 80:\n",
    "        print(\"Congratulations, you achieved your target mark of B\")\n",
    "    elif target_mark == \"A\" and student_mark >= 70 and student_mark < 80:\n",
    "        print(\"Unfortunately you underachieved with a B\")\n",
    "    elif target_mark == \"C\" or \"D\" or \"E\" and student_mark >= 70 and student_mark < 80:\n",
    "        Print(\"Amazing work, you've excelled and achieved a B\")\n",
    "    elif target_mark ==\"C\" and student_mark >= 60 and student_mark < 70:\n",
    "        print(\"Congratulations, you achieved your target mark of C\")\n",
    "    elif target_mark ==\"D\" or \"E\" and student_mark >= 60 and student_mark < 70:\n",
    "        print(\"Amazing work, you've excellend and achieved a C\")\n",
    "    elif target_mark ==\"A\" or \"B\" and student_mark >= 60 and student_mark < 70:\n",
    "        print(\"Unfortunately you underachieved with a C\")\n",
    "    elif target_mark ==\"D\" and student_mark >= 40 and student_mark < 60:\n",
    "        print(\"Congratulations, you achieved your target mark of D\")\n",
    "    elif target_mark ==\"E\" and student_mark >= 40 and student_mark < 60:\n",
    "        print(\"Amazing work, you've excelled and achieved a D\")\n",
    "    elif target_mark ==\"A\" or \"B\" or \"C\" and student_mark >= 40 and student_mark < 60:\n",
    "        print(\"Unfortunately you underachieved with a D\")\n",
    "    elif student_mark < 40:\n",
    "        print(\"Unfortunately you failed\")\n",
    "    else:\n",
    "        print(\"Please try again.\")\n",
    "\n",
    "function2()"
   ]
  },
  {
   "cell_type": "code",
   "execution_count": 65,
   "metadata": {},
   "outputs": [
    {
     "ename": "ModuleNotFoundError",
     "evalue": "No module named 'numpy'",
     "output_type": "error",
     "traceback": [
      "\u001b[1;31m---------------------------------------------------------------------------\u001b[0m",
      "\u001b[1;31mModuleNotFoundError\u001b[0m                       Traceback (most recent call last)",
      "\u001b[1;32m~\\AppData\\Local\\Temp/ipykernel_6660/402457174.py\u001b[0m in \u001b[0;36m<module>\u001b[1;34m\u001b[0m\n\u001b[1;32m----> 1\u001b[1;33m \u001b[1;32mimport\u001b[0m \u001b[0mnumpy\u001b[0m \u001b[1;32mas\u001b[0m \u001b[0mnp\u001b[0m\u001b[1;33m\u001b[0m\u001b[1;33m\u001b[0m\u001b[0m\n\u001b[0m",
      "\u001b[1;31mModuleNotFoundError\u001b[0m: No module named 'numpy'"
     ]
    }
   ],
   "source": [
    "import numpy as np\n"
   ]
  }
 ],
 "metadata": {
  "interpreter": {
   "hash": "403fa2ced73ece06b9c4dd8fd1f67de18907d88a859348c11e08093f36e24ea1"
  },
  "kernelspec": {
   "display_name": "Python 3.10.0 64-bit",
   "name": "python3"
  },
  "language_info": {
   "codemirror_mode": {
    "name": "ipython",
    "version": 3
   },
   "file_extension": ".py",
   "mimetype": "text/x-python",
   "name": "python",
   "nbconvert_exporter": "python",
   "pygments_lexer": "ipython3",
   "version": "3.10.0"
  },
  "orig_nbformat": 4
 },
 "nbformat": 4,
 "nbformat_minor": 2
}
