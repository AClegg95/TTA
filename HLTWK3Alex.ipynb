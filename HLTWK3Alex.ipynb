{
 "cells": [
  {
   "cell_type": "code",
   "execution_count": 4,
   "metadata": {},
   "outputs": [
    {
     "data": {
      "text/plain": [
       "(15, 5)"
      ]
     },
     "execution_count": 4,
     "metadata": {},
     "output_type": "execute_result"
    }
   ],
   "source": [
    "# Task 1: How many rows and columns are there in your file?\n",
    "\n",
    "import pandas as pd\n",
    "\n",
    "LocationData = pd.read_csv(\"TTAWk4.csv\")\n",
    "\n",
    "LocationData.shape"
   ]
  },
  {
   "cell_type": "code",
   "execution_count": 6,
   "metadata": {},
   "outputs": [
    {
     "data": {
      "text/html": [
       "<div>\n",
       "<style scoped>\n",
       "    .dataframe tbody tr th:only-of-type {\n",
       "        vertical-align: middle;\n",
       "    }\n",
       "\n",
       "    .dataframe tbody tr th {\n",
       "        vertical-align: top;\n",
       "    }\n",
       "\n",
       "    .dataframe thead th {\n",
       "        text-align: right;\n",
       "    }\n",
       "</style>\n",
       "<table border=\"1\" class=\"dataframe\">\n",
       "  <thead>\n",
       "    <tr style=\"text-align: right;\">\n",
       "      <th></th>\n",
       "      <th>Destinations</th>\n",
       "      <th>Feedback_Score</th>\n",
       "      <th>Avg_hotel_rating</th>\n",
       "      <th>No_of_all_inclusives</th>\n",
       "      <th>Most_visited_city</th>\n",
       "    </tr>\n",
       "  </thead>\n",
       "  <tbody>\n",
       "    <tr>\n",
       "      <th>3</th>\n",
       "      <td>India</td>\n",
       "      <td>7</td>\n",
       "      <td>2.1</td>\n",
       "      <td>862</td>\n",
       "      <td>Mumbai</td>\n",
       "    </tr>\n",
       "    <tr>\n",
       "      <th>4</th>\n",
       "      <td>France</td>\n",
       "      <td>6</td>\n",
       "      <td>3.8</td>\n",
       "      <td>356</td>\n",
       "      <td>Paris</td>\n",
       "    </tr>\n",
       "    <tr>\n",
       "      <th>5</th>\n",
       "      <td>Sri Lanka</td>\n",
       "      <td>8</td>\n",
       "      <td>2.9</td>\n",
       "      <td>172</td>\n",
       "      <td>Kandy</td>\n",
       "    </tr>\n",
       "    <tr>\n",
       "      <th>6</th>\n",
       "      <td>USA</td>\n",
       "      <td>5</td>\n",
       "      <td>3.4</td>\n",
       "      <td>1452</td>\n",
       "      <td>New York</td>\n",
       "    </tr>\n",
       "    <tr>\n",
       "      <th>7</th>\n",
       "      <td>Germany</td>\n",
       "      <td>7</td>\n",
       "      <td>3.6</td>\n",
       "      <td>389</td>\n",
       "      <td>Berlin</td>\n",
       "    </tr>\n",
       "  </tbody>\n",
       "</table>\n",
       "</div>"
      ],
      "text/plain": [
       "  Destinations  Feedback_Score  Avg_hotel_rating  No_of_all_inclusives  \\\n",
       "3        India               7               2.1                   862   \n",
       "4       France               6               3.8                   356   \n",
       "5    Sri Lanka               8               2.9                   172   \n",
       "6          USA               5               3.4                  1452   \n",
       "7      Germany               7               3.6                   389   \n",
       "\n",
       "  Most_visited_city  \n",
       "3            Mumbai  \n",
       "4             Paris  \n",
       "5             Kandy  \n",
       "6          New York  \n",
       "7            Berlin  "
      ]
     },
     "execution_count": 6,
     "metadata": {},
     "output_type": "execute_result"
    }
   ],
   "source": [
    "# Task 2: Print row 3-8 ( using iloc/loc).\n",
    "\n",
    "LocationData.iloc[3:8]"
   ]
  },
  {
   "cell_type": "code",
   "execution_count": 9,
   "metadata": {},
   "outputs": [
    {
     "data": {
      "text/plain": [
       "489.1333333333333"
      ]
     },
     "execution_count": 9,
     "metadata": {},
     "output_type": "execute_result"
    }
   ],
   "source": [
    "# Task 3: Find the mean number of all-inclusive hotels across all destinations.\n",
    "\n",
    "LocationData[\"No_of_all_inclusives\"].mean()"
   ]
  },
  {
   "cell_type": "code",
   "execution_count": 24,
   "metadata": {},
   "outputs": [
    {
     "name": "stdout",
     "output_type": "stream",
     "text": [
      "   Destinations  Feedback_Score  Avg_hotel_rating  No_of_all_inclusives  \\\n",
      "12     Thailand               3               2.5                  1001   \n",
      "11       Norway               4               3.8                   252   \n",
      "6           USA               5               3.4                  1452   \n",
      "14       Poland               5               2.1                   109   \n",
      "4        France               6               3.8                   356   \n",
      "\n",
      "   Most_visited_city  \n",
      "12           Bangkok  \n",
      "11              Oslo  \n",
      "6           New York  \n",
      "14            Warsaw  \n",
      "4              Paris  \n"
     ]
    }
   ],
   "source": [
    "# Task 4: Find the lowest scoring destination.\n",
    "\n",
    "\n",
    "LowestScorer = LocationData.sort_values(by = ['Feedback_Score'], ascending = True)\n",
    "\n",
    "print(LowestScorer.head(5))"
   ]
  },
  {
   "cell_type": "code",
   "execution_count": 29,
   "metadata": {},
   "outputs": [
    {
     "name": "stdout",
     "output_type": "stream",
     "text": [
      "   Destinations  Feedback_Score  Avg_hotel_rating  No_of_all_inclusives  \\\n",
      "2   New Zealand               9               3.6                   176   \n",
      "1     Australia               8               3.4                   315   \n",
      "5     Sri Lanka               8               2.9                   172   \n",
      "8        Brazil               8               3.0                   689   \n",
      "10       Sweden               8               3.4                   276   \n",
      "\n",
      "   Most_visited_city  \n",
      "2           Auckland  \n",
      "1              Sydne  \n",
      "5              Kandy  \n",
      "8                Rio  \n",
      "10         Stockholm  \n"
     ]
    }
   ],
   "source": [
    "# Task 5: Find the highest scoring destination.\n",
    "\n",
    "HighestScorer = LocationData.sort_values(by = ['Feedback_Score'], ascending = False)\n",
    "\n",
    "print(HighestScorer.head(5))"
   ]
  },
  {
   "cell_type": "code",
   "execution_count": 33,
   "metadata": {},
   "outputs": [
    {
     "data": {
      "text/html": [
       "<div>\n",
       "<style scoped>\n",
       "    .dataframe tbody tr th:only-of-type {\n",
       "        vertical-align: middle;\n",
       "    }\n",
       "\n",
       "    .dataframe tbody tr th {\n",
       "        vertical-align: top;\n",
       "    }\n",
       "\n",
       "    .dataframe thead th {\n",
       "        text-align: right;\n",
       "    }\n",
       "</style>\n",
       "<table border=\"1\" class=\"dataframe\">\n",
       "  <thead>\n",
       "    <tr style=\"text-align: right;\">\n",
       "      <th></th>\n",
       "      <th>Destinations</th>\n",
       "      <th>Feedback_Score</th>\n",
       "      <th>Avg_hotel_rating</th>\n",
       "      <th>No_of_all_inclusives</th>\n",
       "      <th>Most_visited_city</th>\n",
       "    </tr>\n",
       "  </thead>\n",
       "  <tbody>\n",
       "    <tr>\n",
       "      <th>3</th>\n",
       "      <td>India</td>\n",
       "      <td>7</td>\n",
       "      <td>2.1</td>\n",
       "      <td>862</td>\n",
       "      <td>Mumbai</td>\n",
       "    </tr>\n",
       "    <tr>\n",
       "      <th>6</th>\n",
       "      <td>USA</td>\n",
       "      <td>5</td>\n",
       "      <td>3.4</td>\n",
       "      <td>1452</td>\n",
       "      <td>New York</td>\n",
       "    </tr>\n",
       "    <tr>\n",
       "      <th>8</th>\n",
       "      <td>Brazil</td>\n",
       "      <td>8</td>\n",
       "      <td>3.0</td>\n",
       "      <td>689</td>\n",
       "      <td>Rio</td>\n",
       "    </tr>\n",
       "    <tr>\n",
       "      <th>9</th>\n",
       "      <td>Russia</td>\n",
       "      <td>6</td>\n",
       "      <td>2.6</td>\n",
       "      <td>503</td>\n",
       "      <td>Moscow</td>\n",
       "    </tr>\n",
       "    <tr>\n",
       "      <th>12</th>\n",
       "      <td>Thailand</td>\n",
       "      <td>3</td>\n",
       "      <td>2.5</td>\n",
       "      <td>1001</td>\n",
       "      <td>Bangkok</td>\n",
       "    </tr>\n",
       "  </tbody>\n",
       "</table>\n",
       "</div>"
      ],
      "text/plain": [
       "   Destinations  Feedback_Score  Avg_hotel_rating  No_of_all_inclusives  \\\n",
       "3         India               7               2.1                   862   \n",
       "6           USA               5               3.4                  1452   \n",
       "8        Brazil               8               3.0                   689   \n",
       "9        Russia               6               2.6                   503   \n",
       "12     Thailand               3               2.5                  1001   \n",
       "\n",
       "   Most_visited_city  \n",
       "3             Mumbai  \n",
       "6           New York  \n",
       "8                Rio  \n",
       "9             Moscow  \n",
       "12           Bangkok  "
      ]
     },
     "execution_count": 33,
     "metadata": {},
     "output_type": "execute_result"
    }
   ],
   "source": [
    "# Task 6: Find all the destinations where there are more than 500 all-inclusive hotels.\n",
    "\n",
    "LocationData[(LocationData.No_of_all_inclusives >500)]"
   ]
  },
  {
   "cell_type": "code",
   "execution_count": 36,
   "metadata": {},
   "outputs": [
    {
     "data": {
      "text/html": [
       "<div>\n",
       "<style scoped>\n",
       "    .dataframe tbody tr th:only-of-type {\n",
       "        vertical-align: middle;\n",
       "    }\n",
       "\n",
       "    .dataframe tbody tr th {\n",
       "        vertical-align: top;\n",
       "    }\n",
       "\n",
       "    .dataframe thead th {\n",
       "        text-align: right;\n",
       "    }\n",
       "</style>\n",
       "<table border=\"1\" class=\"dataframe\">\n",
       "  <thead>\n",
       "    <tr style=\"text-align: right;\">\n",
       "      <th></th>\n",
       "      <th>Destinations</th>\n",
       "      <th>Feedback_Score</th>\n",
       "      <th>Avg_hotel_rating</th>\n",
       "      <th>No_of_all_inclusives</th>\n",
       "      <th>Most_visited_city</th>\n",
       "    </tr>\n",
       "  </thead>\n",
       "  <tbody>\n",
       "    <tr>\n",
       "      <th>3</th>\n",
       "      <td>India</td>\n",
       "      <td>7</td>\n",
       "      <td>2.1</td>\n",
       "      <td>862</td>\n",
       "      <td>Mumbai</td>\n",
       "    </tr>\n",
       "    <tr>\n",
       "      <th>8</th>\n",
       "      <td>Brazil</td>\n",
       "      <td>8</td>\n",
       "      <td>3.0</td>\n",
       "      <td>689</td>\n",
       "      <td>Rio</td>\n",
       "    </tr>\n",
       "    <tr>\n",
       "      <th>9</th>\n",
       "      <td>Russia</td>\n",
       "      <td>6</td>\n",
       "      <td>2.6</td>\n",
       "      <td>503</td>\n",
       "      <td>Moscow</td>\n",
       "    </tr>\n",
       "  </tbody>\n",
       "</table>\n",
       "</div>"
      ],
      "text/plain": [
       "  Destinations  Feedback_Score  Avg_hotel_rating  No_of_all_inclusives  \\\n",
       "3        India               7               2.1                   862   \n",
       "8       Brazil               8               3.0                   689   \n",
       "9       Russia               6               2.6                   503   \n",
       "\n",
       "  Most_visited_city  \n",
       "3            Mumbai  \n",
       "8               Rio  \n",
       "9            Moscow  "
      ]
     },
     "execution_count": 36,
     "metadata": {},
     "output_type": "execute_result"
    }
   ],
   "source": [
    "#Task 7: Filter the data by score above.\n",
    "\n",
    "LocationData[(LocationData.No_of_all_inclusives > 500) & (LocationData.Feedback_Score > 5)] "
   ]
  },
  {
   "cell_type": "code",
   "execution_count": 39,
   "metadata": {},
   "outputs": [
    {
     "data": {
      "text/html": [
       "<div>\n",
       "<style scoped>\n",
       "    .dataframe tbody tr th:only-of-type {\n",
       "        vertical-align: middle;\n",
       "    }\n",
       "\n",
       "    .dataframe tbody tr th {\n",
       "        vertical-align: top;\n",
       "    }\n",
       "\n",
       "    .dataframe thead th {\n",
       "        text-align: right;\n",
       "    }\n",
       "</style>\n",
       "<table border=\"1\" class=\"dataframe\">\n",
       "  <thead>\n",
       "    <tr style=\"text-align: right;\">\n",
       "      <th></th>\n",
       "      <th>Destinations</th>\n",
       "      <th>Feedback_Score</th>\n",
       "      <th>Avg_hotel_rating</th>\n",
       "      <th>No_of_all_inclusives</th>\n",
       "      <th>Most_visited_city</th>\n",
       "    </tr>\n",
       "  </thead>\n",
       "  <tbody>\n",
       "    <tr>\n",
       "      <th>12</th>\n",
       "      <td>Thailand</td>\n",
       "      <td>3</td>\n",
       "      <td>2.5</td>\n",
       "      <td>1001</td>\n",
       "      <td>Bangkok</td>\n",
       "    </tr>\n",
       "  </tbody>\n",
       "</table>\n",
       "</div>"
      ],
      "text/plain": [
       "   Destinations  Feedback_Score  Avg_hotel_rating  No_of_all_inclusives  \\\n",
       "12     Thailand               3               2.5                  1001   \n",
       "\n",
       "   Most_visited_city  \n",
       "12           Bangkok  "
      ]
     },
     "execution_count": 39,
     "metadata": {},
     "output_type": "execute_result"
    }
   ],
   "source": [
    "#Task 8: Filter the data score below 5 ( I need to know if these destinations should be removed or there is a problem)\n",
    "\n",
    "LocationData[(LocationData.No_of_all_inclusives > 500) & (LocationData.Feedback_Score < 5)]"
   ]
  },
  {
   "cell_type": "code",
   "execution_count": 46,
   "metadata": {},
   "outputs": [
    {
     "name": "stdout",
     "output_type": "stream",
     "text": [
      "Feedback_Score            5.80\n",
      "Avg_hotel_rating          2.72\n",
      "No_of_all_inclusives    901.40\n",
      "dtype: float64\n",
      "Feedback_Score            7.00\n",
      "Avg_hotel_rating          3.31\n",
      "No_of_all_inclusives    283.00\n",
      "dtype: float64\n"
     ]
    },
    {
     "name": "stderr",
     "output_type": "stream",
     "text": [
      "C:\\Users\\a-cle\\AppData\\Local\\Temp/ipykernel_17564/3613363012.py:3: FutureWarning: Dropping of nuisance columns in DataFrame reductions (with 'numeric_only=None') is deprecated; in a future version this will raise TypeError.  Select only valid columns before calling the reduction.\n",
      "  MeanAbove500 = LocationData[(LocationData.No_of_all_inclusives > 500)].mean()\n",
      "C:\\Users\\a-cle\\AppData\\Local\\Temp/ipykernel_17564/3613363012.py:5: FutureWarning: Dropping of nuisance columns in DataFrame reductions (with 'numeric_only=None') is deprecated; in a future version this will raise TypeError.  Select only valid columns before calling the reduction.\n",
      "  MeanBelow500 = LocationData[(LocationData.No_of_all_inclusives < 500)].mean()\n"
     ]
    }
   ],
   "source": [
    "# Extension Task 1: Is there a correlation between number of all-inclusive hotels and score?\n",
    "\n",
    "MeanAbove500 = LocationData[(LocationData.No_of_all_inclusives > 500)].mean()\n",
    "\n",
    "MeanBelow500 = LocationData[(LocationData.No_of_all_inclusives < 500)].mean()\n",
    "\n",
    "print(MeanAbove500)\n",
    "print(MeanBelow500)\n",
    "\n",
    "# According to the printed data there is a negative correlation between the number of all-inclusive hotels and the feedback score.\n"
   ]
  },
  {
   "cell_type": "code",
   "execution_count": 1,
   "metadata": {},
   "outputs": [
    {
     "ename": "ModuleNotFoundError",
     "evalue": "No module named 'altair'",
     "output_type": "error",
     "traceback": [
      "\u001b[1;31m---------------------------------------------------------------------------\u001b[0m",
      "\u001b[1;31mModuleNotFoundError\u001b[0m                       Traceback (most recent call last)",
      "\u001b[1;32m~\\AppData\\Local\\Temp/ipykernel_14800/2545080705.py\u001b[0m in \u001b[0;36m<module>\u001b[1;34m\u001b[0m\n\u001b[0;32m      1\u001b[0m \u001b[1;31m# Extension Task 2: Create a data visualisation diagram to show destination and highest scores.\u001b[0m\u001b[1;33m\u001b[0m\u001b[1;33m\u001b[0m\u001b[0m\n\u001b[0;32m      2\u001b[0m \u001b[1;33m\u001b[0m\u001b[0m\n\u001b[1;32m----> 3\u001b[1;33m \u001b[1;32mimport\u001b[0m \u001b[0maltair\u001b[0m \u001b[1;32mas\u001b[0m \u001b[0malt\u001b[0m\u001b[1;33m\u001b[0m\u001b[1;33m\u001b[0m\u001b[0m\n\u001b[0m",
      "\u001b[1;31mModuleNotFoundError\u001b[0m: No module named 'altair'"
     ]
    }
   ],
   "source": [
    "# Extension Task 2: Create a data visualisation diagram to show destination and highest scores.\n",
    "\n",
    "import altair as alt\n"
   ]
  }
 ],
 "metadata": {
  "interpreter": {
   "hash": "403fa2ced73ece06b9c4dd8fd1f67de18907d88a859348c11e08093f36e24ea1"
  },
  "kernelspec": {
   "display_name": "Python 3.10.0 64-bit",
   "name": "python3"
  },
  "language_info": {
   "codemirror_mode": {
    "name": "ipython",
    "version": 3
   },
   "file_extension": ".py",
   "mimetype": "text/x-python",
   "name": "python",
   "nbconvert_exporter": "python",
   "pygments_lexer": "ipython3",
   "version": "3.10.0"
  },
  "orig_nbformat": 4
 },
 "nbformat": 4,
 "nbformat_minor": 2
}
