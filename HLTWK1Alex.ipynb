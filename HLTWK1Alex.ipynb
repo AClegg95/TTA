{
 "cells": [
  {
   "cell_type": "code",
   "execution_count": 2,
   "metadata": {},
   "outputs": [
    {
     "name": "stdout",
     "output_type": "stream",
     "text": [
      "Hello World\n"
     ]
    }
   ],
   "source": [
    "print(\"Hello World\")"
   ]
  },
  {
   "cell_type": "code",
   "execution_count": 3,
   "metadata": {},
   "outputs": [
    {
     "name": "stdout",
     "output_type": "stream",
     "text": [
      "hello world\n"
     ]
    }
   ],
   "source": [
    "print(\"hello world\")"
   ]
  },
  {
   "cell_type": "code",
   "execution_count": 27,
   "metadata": {},
   "outputs": [
    {
     "name": "stdout",
     "output_type": "stream",
     "text": [
      "6\n",
      "Alex\n",
      "Better luck next time Alex\n"
     ]
    }
   ],
   "source": [
    "#task1 1\n",
    "\n",
    "# import random number\n",
    "import random\n",
    "RandomDigit = random.randint (1,10)\n",
    "print(RandomDigit)\n",
    "\n",
    "# ask user's name\n",
    "user_input = input(\"What is your name?\")\n",
    "print(user_input)\n",
    "\n",
    "# ask user for a number\n",
    "chosen_number = int(input(\"Pick a number between 1 and 10\"))\n",
    "if chosen_number == RandomDigit:\n",
    " print(user_input, \"Buy a lotto ticket\")\n",
    "else:\n",
    " print(\"Better luck next time\", user_input)\n",
    " # test successful, i printed the initial random number to make sure the code worked"
   ]
  },
  {
   "cell_type": "code",
   "execution_count": 34,
   "metadata": {},
   "outputs": [
    {
     "name": "stdout",
     "output_type": "stream",
     "text": [
      "What time should you go to see the dentist? 2:30!\n"
     ]
    }
   ],
   "source": [
    "# task 2\n",
    "\n",
    "# ask user for a number\n",
    "NumberOfChoice = int(input(\"What is your favourite number between 1 and 100?\"))\n",
    "\n",
    "# create\n",
    "if NumberOfChoice < 33:\n",
    " print(\"Why is 6 scared of 7? Because 7 ate 9!\")\n",
    "elif NumberOfChoice > 66:\n",
    " print(\"What time should you go to see the dentist? 2:30!\")\n",
    "else:\n",
    " print(\"Why didn't the skeleton go to the party? Because he had no body to go with!\")\n",
    "\n"
   ]
  },
  {
   "cell_type": "code",
   "execution_count": 54,
   "metadata": {},
   "outputs": [
    {
     "name": "stdout",
     "output_type": "stream",
     "text": [
      "Your favourite meal is soup followed by roast to be washed down with ale . cheesecake is your preferred dessert.\n"
     ]
    }
   ],
   "source": [
    "# task 3\n",
    "\n",
    "# ask user for their favourite meal\n",
    "FaveStarter =  input(\"What is your favourite starter?\")\n",
    "FaveMain = input(\"What is your favourite main course?\")\n",
    "FaveDessert = input(\"What is your favourite dessert?\")\n",
    "FaveDrink = input(\"What is your favourite drink to have with a meal?\")\n",
    "\n",
    "# create output message\n",
    "\n",
    "print(\"Your favourite meal is\", FaveStarter, \"followed by\", FaveMain, \"to be washed down with\", FaveDrink,\".\",FaveDessert, \"is your preferred dessert.\")"
   ]
  },
  {
   "cell_type": "code",
   "execution_count": 9,
   "metadata": {},
   "outputs": [
    {
     "name": "stdout",
     "output_type": "stream",
     "text": [
      "1800.0\n",
      "1620.0\n",
      "1458.0\n",
      "1312.2\n",
      "1180.98\n",
      "1062.882\n",
      "956.5938000000001\n"
     ]
    }
   ],
   "source": [
    "# Task 4: A motorbike costs £2000 and loses 10% of its value every year. Using a loop, print the value of the bike every following year until it falls below £1000.\n",
    "\n",
    "motorbike = 2000\n",
    "\n",
    "while motorbike > 1000:\n",
    "    motorbike = (motorbike-(motorbike/10))\n",
    "    print (motorbike)"
   ]
  },
  {
   "cell_type": "code",
   "execution_count": 39,
   "metadata": {},
   "outputs": [
    {
     "name": "stdout",
     "output_type": "stream",
     "text": [
      "4 and 4\n"
     ]
    }
   ],
   "source": [
    "# Task 5: Write a program which will ask for two numbers from a user. Then offer a menu to the user giving them a choice of operator\n",
    "\n",
    "number1 = int(input(\"Please provide a number\"))\n",
    "number2 = int(input(\"Please provide a second number\"))\n",
    "operator_choice = input(\"A to add both numbers together, B to subsctract the second number from the first, C to multiply both numbers, D to divide the second number by the first and E for to square each number\")\n",
    "if operator_choice == \"A\":\n",
    "    print (number1 + number2)\n",
    "elif operator_choice == \"B\":\n",
    "    print (number2 - number1)\n",
    "elif operator_choice == \"C\":\n",
    "    print (number1 * number2)\n",
    "elif operator_choice == \"D\":\n",
    "    print (number2 / number1)\n",
    "elif operator_choice == \"E\":\n",
    "    print (number1**number1, \"and\", number2**number2)"
   ]
  },
  {
   "cell_type": "code",
   "execution_count": 48,
   "metadata": {},
   "outputs": [
    {
     "name": "stdout",
     "output_type": "stream",
     "text": [
      "An innings can't last more than 20 overs.\n"
     ]
    }
   ],
   "source": [
    "# Session 2 task 1: Create a flow chart and covert it into code. Follow link for flow chart: https://lucid.app/lucidchart/ef4641c8-6fa4-4395-8024-12cb13160257/edit?viewport_loc=-13%2C326%2C1707%2C821%2C0_0&invitationId=inv_d4f250c1-071b-4130-97aa-f71697b0dd5f\n",
    "\n",
    "overOfChoice = int(input(\"An innings in T20 cricket is made up of three distinct phases, enter a number between 1 and 20 to find out which phase the over is in\"))\n",
    "\n",
    "if overOfChoice < 6:\n",
    "    print(\"This is a powerplay over.\")\n",
    "elif overOfChoice > 15 and overOfChoice < 21:\n",
    "    print(\"This is a death over.\")\n",
    "elif overOfChoice > 20:\n",
    "    print(\"An innings can't last more than 20 overs.\")\n",
    "else:\n",
    "    print(\"This is a middle over.\")"
   ]
  },
  {
   "cell_type": "code",
   "execution_count": 65,
   "metadata": {},
   "outputs": [
    {
     "name": "stdout",
     "output_type": "stream",
     "text": [
      "1800.0\n",
      "1620.0\n",
      "1458.0\n",
      "1312.2\n",
      "1180.98\n",
      "1062.882\n",
      "956.5938000000001\n"
     ]
    },
    {
     "data": {
      "text/plain": [
       "956.5938000000001"
      ]
     },
     "execution_count": 65,
     "metadata": {},
     "output_type": "execute_result"
    }
   ],
   "source": [
    "# Session 2 Task 2: Create function as extension of 'Motorbike' task\n",
    "\n",
    "def function1():\n",
    "    motorbike = 2000\n",
    "\n",
    "    while motorbike > 1000:\n",
    "        motorbike = (motorbike-(motorbike/10))\n",
    "        print (motorbike)\n",
    "\n",
    "    return motorbike\n",
    "\n",
    "function1()"
   ]
  }
 ],
 "metadata": {
  "interpreter": {
   "hash": "403fa2ced73ece06b9c4dd8fd1f67de18907d88a859348c11e08093f36e24ea1"
  },
  "kernelspec": {
   "display_name": "Python 3.10.0 64-bit",
   "name": "python3"
  },
  "language_info": {
   "codemirror_mode": {
    "name": "ipython",
    "version": 3
   },
   "file_extension": ".py",
   "mimetype": "text/x-python",
   "name": "python",
   "nbconvert_exporter": "python",
   "pygments_lexer": "ipython3",
   "version": "3.10.0"
  },
  "orig_nbformat": 4
 },
 "nbformat": 4,
 "nbformat_minor": 2
}
